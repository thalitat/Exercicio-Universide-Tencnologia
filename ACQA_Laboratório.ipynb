{
  "nbformat": 4,
  "nbformat_minor": 0,
  "metadata": {
    "colab": {
      "provenance": [],
      "authorship_tag": "ABX9TyOsRtxqScMPwUKkZgP7IqPL",
      "include_colab_link": true
    },
    "kernelspec": {
      "name": "python3",
      "display_name": "Python 3"
    },
    "language_info": {
      "name": "python"
    }
  },
  "cells": [
    {
      "cell_type": "markdown",
      "metadata": {
        "id": "view-in-github",
        "colab_type": "text"
      },
      "source": [
        "<a href=\"https://colab.research.google.com/github/thalitat/Exercicio-Universide-Tencnologia/blob/main/ACQA_Laborat%C3%B3rio.ipynb\" target=\"_parent\"><img src=\"https://colab.research.google.com/assets/colab-badge.svg\" alt=\"Open In Colab\"/></a>"
      ]
    },
    {
      "cell_type": "markdown",
      "source": [
        "Nome: Thalita Santos Barbosa de Oliveira\n",
        "RA: 1142646-7\n",
        "\n",
        "Explicação: Esse código simula uma eleição onde os candidatos e seus números ficam armazenados em um dicionário (Dicionário é usado porque permite armazenar os candidatos e seus números de forma estruturada, facilitando a busca e a contagem de votos). Ele usa um while True para repetir a votação até o usuário digitar 0 para sair. Dentro do loop, um if verifica se o voto é válido: se for um candidato, ele ganha um voto; se for 5 ou 6, conta como nulo ou branco, respectivamente; se for inválido, mostra uma mensagem de erro e volta para o início com continue. Depois que a votação termina, ele calcula os percentuais de nulos e brancos, identifica o candidato com mais votos e verifica se houve empate, exibindo os resultados com print."
      ],
      "metadata": {
        "id": "8kbNHNqL1AxH"
      }
    },
    {
      "cell_type": "code",
      "source": [
        "# Dicionário para armazenar os candidatos e seus respectivos números\n",
        "candidatos = {\n",
        "    1: \"José\",\n",
        "    2: \"João\",\n",
        "    3: \"Maria\",\n",
        "    4: \"Ana\"\n",
        "}\n",
        "\n",
        "# Inicialização das variáveis\n",
        "votos_candidatos = {chave: 0 for chave in candidatos.keys()}\n",
        "votos_nulos = 0\n",
        "votos_brancos = 0\n",
        "total_votos = 0\n",
        "\n",
        "# Entrada dos votos\n",
        "while True:\n",
        "    try:\n",
        "        voto = int(input(\"Digite seu voto (1-4 para candidatos, 5 para nulo, 6 para branco, 0 para sair): \"))\n",
        "\n",
        "        if voto == 0:\n",
        "            break  # Encerra a votação\n",
        "        elif voto in votos_candidatos:\n",
        "            votos_candidatos[voto] += 1  # Incrementa o voto do candidato\n",
        "        elif voto == 5:\n",
        "            votos_nulos += 1  # Contabiliza voto nulo\n",
        "        elif voto == 6:\n",
        "            votos_brancos += 1  # Contabiliza voto em branco\n",
        "        else:\n",
        "            print(\"Código inválido! Tente novamente.\")\n",
        "            continue  # Retorna ao início sem contar o voto inválido\n",
        "\n",
        "        total_votos += 1  # Contabiliza o total de votos\n",
        "    except ValueError:\n",
        "        print(\"Entrada inválida! Digite um número inteiro.\")\n",
        "\n",
        "# Cálculo das porcentagens\n",
        "percentual_nulos = (votos_nulos / total_votos * 100) if total_votos > 0 else 0\n",
        "percentual_brancos = (votos_brancos / total_votos * 100) if total_votos > 0 else 0\n",
        "\n",
        "# Determina o vencedor ou se houve empate\n",
        "max_votos = max(votos_candidatos.values()) if total_votos > 0 else 0\n",
        "vencedores = [nome for num, nome in candidatos.items() if votos_candidatos[num] == max_votos and max_votos > 0]\n",
        "\n",
        "# Exibição dos resultados\n",
        "print(\"\\nRESULTADO DA ELEIÇÃO:\")\n",
        "print(\"Total de votos computados:\", total_votos)\n",
        "for num, nome in candidatos.items():\n",
        "    print(f\"{nome}: {votos_candidatos[num]} votos\")\n",
        "print(f\"Votos Nulos: {votos_nulos}\")\n",
        "print(f\"Votos em Branco: {votos_brancos}\")\n",
        "print(f\"Percentual de votos nulos sobre o total: {percentual_nulos:.2f}%\")\n",
        "print(f\"Percentual de votos em branco sobre o total: {percentual_brancos:.2f}%\")\n",
        "\n",
        "if len(vencedores) == 1:\n",
        "    print(f\"Candidato vencedor: {vencedores[0]} com {max_votos} votos\")\n",
        "elif len(vencedores) > 1:\n",
        "    print(f\"Houve um empate entre: {', '.join(vencedores)} com {max_votos} votos cada.\")\n",
        "else:\n",
        "    print(\"Nenhum candidato recebeu votos.\")\n"
      ],
      "metadata": {
        "colab": {
          "base_uri": "https://localhost:8080/"
        },
        "id": "uSNHrFPkuEYv",
        "outputId": "a41ad16a-465d-49e5-9bab-7dccdf34d535"
      },
      "execution_count": 11,
      "outputs": [
        {
          "output_type": "stream",
          "name": "stdout",
          "text": [
            "Digite seu voto (1-4 para candidatos, 5 para nulo, 6 para branco, 0 para sair): 3\n",
            "Digite seu voto (1-4 para candidatos, 5 para nulo, 6 para branco, 0 para sair): 3\n",
            "Digite seu voto (1-4 para candidatos, 5 para nulo, 6 para branco, 0 para sair): 1\n",
            "Digite seu voto (1-4 para candidatos, 5 para nulo, 6 para branco, 0 para sair): 1\n",
            "Digite seu voto (1-4 para candidatos, 5 para nulo, 6 para branco, 0 para sair): 5\n",
            "Digite seu voto (1-4 para candidatos, 5 para nulo, 6 para branco, 0 para sair): 6\n",
            "Digite seu voto (1-4 para candidatos, 5 para nulo, 6 para branco, 0 para sair): 1\n",
            "Digite seu voto (1-4 para candidatos, 5 para nulo, 6 para branco, 0 para sair): 5\n",
            "Digite seu voto (1-4 para candidatos, 5 para nulo, 6 para branco, 0 para sair): 3\n",
            "Digite seu voto (1-4 para candidatos, 5 para nulo, 6 para branco, 0 para sair): 3\n",
            "Digite seu voto (1-4 para candidatos, 5 para nulo, 6 para branco, 0 para sair): \n",
            "Entrada inválida! Digite um número inteiro.\n",
            "Digite seu voto (1-4 para candidatos, 5 para nulo, 6 para branco, 0 para sair): 0\n",
            "\n",
            "RESULTADO DA ELEIÇÃO:\n",
            "Total de votos computados: 10\n",
            "José: 3 votos\n",
            "João: 0 votos\n",
            "Maria: 4 votos\n",
            "Ana: 0 votos\n",
            "Votos Nulos: 2\n",
            "Votos em Branco: 1\n",
            "Percentual de votos nulos sobre o total: 20.00%\n",
            "Percentual de votos em branco sobre o total: 10.00%\n",
            "Candidato vencedor: Maria com 4 votos\n"
          ]
        }
      ]
    }
  ]
}